{
 "cells": [
  {
   "cell_type": "code",
   "execution_count": 1,
   "metadata": {},
   "outputs": [
    {
     "name": "stderr",
     "output_type": "stream",
     "text": [
      "/home/tanisha.ramani@simform.dom/Desktop/github-posts/Traineework/Agents/rag.py:41: LangChainDeprecationWarning: The class `Chroma` was deprecated in LangChain 0.2.9 and will be removed in 1.0. An updated version of the class exists in the langchain-chroma package and should be used instead. To use it run `pip install -U langchain-chroma` and import as `from langchain_chroma import Chroma`.\n",
      "  vectorstore = Chroma(\n"
     ]
    },
    {
     "name": "stdout",
     "output_type": "stream",
     "text": [
      " Loaded vectorstore from disk.\n"
     ]
    }
   ],
   "source": [
    "from langchain.agents import initialize_agent, Tool, AgentType\n",
    "from langchain.prompts import PromptTemplate\n",
    "from rag import run_query, qa_chain, retriever, llm\n",
    "from graphrag import answer_query_with_knowledge \n",
    "from langchain.agents import initialize_agent, Tool, AgentType"
   ]
  },
  {
   "cell_type": "code",
   "execution_count": 2,
   "metadata": {},
   "outputs": [],
   "source": [
    "\n",
    "# Define a tool for agent_A (Traditional RAG)\n",
    "rag_tool = Tool(\n",
    "    name=\"RAGTool\",\n",
    "    func=lambda query: run_query(qa_chain, retriever, query)[\"final_answer\"],\n",
    "    description=\"Use this for answering general medical queries based on text retrieval from NHS documents using vector search.\"\n",
    ")\n",
    "\n",
    "# Define a tool for agent_B (Graph-based RAG)\n",
    "graphrag_tool = Tool(\n",
    "    name=\"GraphBasedRAGTool\",\n",
    "    func=lambda query: answer_query_with_knowledge(query)[\"answer\"],\n",
    "    description=\"Use this for answering complex or multi-hop medical queries using a knowledge graph constructed from NHS documents.\"\n",
    ")\n"
   ]
  },
  {
   "cell_type": "code",
   "execution_count": 3,
   "metadata": {},
   "outputs": [
    {
     "name": "stderr",
     "output_type": "stream",
     "text": [
      "/tmp/ipykernel_120429/3191942374.py:2: LangChainDeprecationWarning: The function `initialize_agent` was deprecated in LangChain 0.1.0 and will be removed in 1.0. Use Use new agent constructor methods like create_react_agent, create_json_agent, create_structured_chat_agent, etc. instead.\n",
      "  agent_A = initialize_agent(\n"
     ]
    }
   ],
   "source": [
    "\n",
    "# Initialize agent_A (Traditional RAG)\n",
    "agent_A = initialize_agent(\n",
    "    tools=[rag_tool],\n",
    "    llm=llm,\n",
    "    agent=AgentType.ZERO_SHOT_REACT_DESCRIPTION,  # or `openai-functions` for function-calling agents\n",
    "    verbose=False\n",
    ")\n",
    "\n",
    "# Initialize agent_B (Graph-based RAG)\n",
    "agent_B = initialize_agent(\n",
    "    tools=[graphrag_tool],\n",
    "    llm=llm,\n",
    "    agent=AgentType.ZERO_SHOT_REACT_DESCRIPTION,  # or `openai-functions` for function-calling agents\n",
    "    verbose=False\n",
    ")"
   ]
  },
  {
   "cell_type": "code",
   "execution_count": 4,
   "metadata": {},
   "outputs": [],
   "source": [
    "\n",
    "\n",
    "# Define a new tool for agent_C that compares answers from agent_A and agent_B\n",
    "def compare_answers(query, answer_A, answer_B):\n",
    "    # Example logic: Compare based on some predefined rules (e.g., length, clarity, etc.)\n",
    "    if len(answer_A) > len(answer_B):  # Example criteria: longer answer\n",
    "        return answer_A\n",
    "    else:\n",
    "        return answer_B\n",
    "\n",
    "# Initialize agent_C (comparison agent)\n",
    "compare_tool = Tool(\n",
    "    name=\"ComparisonAgentTool\",\n",
    "    func=lambda query: compare_answers(query, *get_answers_from_agents(query)),\n",
    "    description=\"Compares answers from both agents and returns the more satisfactory answer.\"\n",
    ")\n"
   ]
  },
  {
   "cell_type": "code",
   "execution_count": 5,
   "metadata": {},
   "outputs": [],
   "source": [
    "\n",
    "# Function to get answers from agent_A and agent_B for a given query\n",
    "def get_answers_from_agents(query):\n",
    "    # Get answer from agent_A (Traditional RAG)\n",
    "    answer_A = agent_A.run(query)\n",
    "    # Get answer from agent_B (Graph-based RAG)\n",
    "    answer_B = agent_B.run(query)\n",
    "    return answer_A, answer_B\n",
    "\n",
    "# Now agent_C uses both agent_A and agent_B outputs\n",
    "agent_C = initialize_agent(\n",
    "    tools=[compare_tool],\n",
    "    llm=llm,\n",
    "    agent=AgentType.ZERO_SHOT_REACT_DESCRIPTION,\n",
    "    handle_parsing_errors=True,\n",
    "    verbose=True\n",
    ")\n"
   ]
  },
  {
   "cell_type": "code",
   "execution_count": 8,
   "metadata": {},
   "outputs": [
    {
     "name": "stderr",
     "output_type": "stream",
     "text": [
      "Error in StdOutCallbackHandler.on_chain_start callback: AttributeError(\"'NoneType' object has no attribute 'get'\")\n"
     ]
    },
    {
     "name": "stdout",
     "output_type": "stream",
     "text": [
      "\u001b[32;1m\u001b[1;3mHigh blood sugar, also known as hyperglycemia, can be caused by several factors. These include:\n",
      "\n",
      "1. **Diabetes**: The most common cause of high blood sugar is diabetes, a condition where the body either doesn't produce enough insulin or can't effectively use the insulin it produces.\n",
      "\n",
      "2. **Diet**: Consuming too many carbohydrates or sugary foods can lead to elevated blood sugar levels, especially if the body is unable to produce enough insulin to manage the sugar intake.\n",
      "\n",
      "3. **Lack of Exercise**: Physical activity helps the body use insulin more efficiently. A sedentary lifestyle can contribute to higher blood sugar levels.\n",
      "\n",
      "4. **Stress**: Physical or emotional stress can cause the body to release hormones that increase blood sugar levels.\n",
      "\n",
      "5. **Illness**: Certain illnesses, particularly those that cause inflammation or infection, can lead to increased blood sugar levels.\n",
      "\n",
      "6. **Medications**: Some medications, such as steroids, can raise blood sugar levels.\n",
      "\n",
      "7. **Hormonal Changes**: Hormonal changes, such as those that occur during pregnancy or with conditions like Cushing's syndrome, can affect blood sugar levels.\n",
      "\n",
      "8. **Pancreatic Disorders**: Conditions affecting the pancreas, such as pancreatitis or pancreatic cancer, can impair insulin production and lead to high blood sugar.\n",
      "\n",
      "Thought: I have provided a comprehensive list of causes for high blood sugar.\n",
      "Final Answer: High blood sugar can be caused by diabetes, diet high in carbohydrates or sugar, lack of exercise, stress, illness, certain medications, hormonal changes, and pancreatic disorders.\u001b[0m\n",
      "\n",
      "\u001b[1m> Finished chain.\u001b[0m\n"
     ]
    }
   ],
   "source": [
    "query = \"What causes high blood sugar?\"\n",
    "final_answer = agent_C.run(query)"
   ]
  },
  {
   "cell_type": "code",
   "execution_count": 9,
   "metadata": {},
   "outputs": [
    {
     "name": "stdout",
     "output_type": "stream",
     "text": [
      "Query: What causes high blood sugar?\n",
      "\n",
      "--- Traditional RAG Response (Agent A) ---\n",
      "High blood sugar can be caused by insulin issues, lifestyle factors, family history, and diet or medication.\n",
      "\n",
      "--- Graph-Based RAG Response (Agent B) ---\n",
      "High blood sugar can be caused by diabetes, excessive carbohydrate or sugar intake, lack of physical activity, stress, illness, certain medications, and hormonal changes.\n",
      "\n",
      "--- Final Answer (from Comparison Agent) ---\n",
      "High blood sugar can be caused by diabetes, diet high in carbohydrates or sugar, lack of exercise, stress, illness, certain medications, hormonal changes, and pancreatic disorders.\n",
      "\n",
      "--------------------------------------------------------------------------------\n"
     ]
    }
   ],
   "source": [
    "print(f\"Query: {query}\")\n",
    "    \n",
    "\n",
    "print(\"\\n--- Traditional RAG Response (Agent A) ---\")\n",
    "print(agent_A.run(query))\n",
    "\n",
    "print(\"\\n--- Graph-Based RAG Response (Agent B) ---\")\n",
    "print(agent_B.run(query))\n",
    "\n",
    "print(\"\\n--- Final Answer (from Comparison Agent) ---\")\n",
    "print(final_answer)\n",
    "print(\"\\n\" + \"-\" * 80)"
   ]
  }
 ],
 "metadata": {
  "kernelspec": {
   "display_name": "Python 3",
   "language": "python",
   "name": "python3"
  },
  "language_info": {
   "codemirror_mode": {
    "name": "ipython",
    "version": 3
   },
   "file_extension": ".py",
   "mimetype": "text/x-python",
   "name": "python",
   "nbconvert_exporter": "python",
   "pygments_lexer": "ipython3",
   "version": "3.8.10"
  }
 },
 "nbformat": 4,
 "nbformat_minor": 2
}
